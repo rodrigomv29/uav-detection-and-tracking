{
  "nbformat": 4,
  "nbformat_minor": 0,
  "metadata": {
    "kernelspec": {
      "display_name": "Python 3",
      "language": "python",
      "name": "python3"
    },
    "language_info": {
      "codemirror_mode": {
        "name": "ipython",
        "version": 3
      },
      "file_extension": ".py",
      "mimetype": "text/x-python",
      "name": "python",
      "nbconvert_exporter": "python",
      "pygments_lexer": "ipython3",
      "version": "3.7.4"
    },
    "colab": {
      "provenance": []
    }
  },
  "cells": [
    {
      "cell_type": "markdown",
      "metadata": {
        "id": "Tajfsk_7JY3E"
      },
      "source": [
        "**Note to grader:** Each question is assigned with a score. The final score will be (sum of actual scores)/(sum of maximum scores)*100. The grading rubrics are shown in the TA guidelines."
      ]
    },
    {
      "cell_type": "markdown",
      "metadata": {
        "id": "SArgW_Vq-uTh"
      },
      "source": [
        "# **Assignment 4**\n",
        "\n",
        "The goal of this assignment is to run some experiments with scikit-learn on a fairly sizeable and interesting image data set. This is the MNIST data set that consists of lots of images, each having 28x28 pixels. By today's standards, this may seem relatively tiny, but only a few years ago was quite challenging computationally, and it motivated the development of several ML algorithms and models that are now state-of-the-art  solutions for much bigger data sets.\n",
        "\n",
        "The assignment is experimental. We will try to whether a combination of PCA and kNN can yield any good results for the MNIST data set. Let's see if it can be made to work on this data set.\n",
        "\n",
        "Note: There are less difficult Python parts in this assignment. You can get things done by just repeating things from the class notebooks. But your participation and interaction via Canvas is always appreciated!"
      ]
    },
    {
      "cell_type": "markdown",
      "metadata": {
        "id": "IlFM4hig-uTj"
      },
      "source": [
        "## Preparation Steps"
      ]
    },
    {
      "cell_type": "code",
      "metadata": {
        "id": "E3alYkjM-uTk"
      },
      "source": [
        "# Import all necessary python packages\n",
        "import numpy as np\n",
        "import matplotlib.pyplot as plt\n",
        "\n",
        "#import os\n",
        "#import pandas as pd\n",
        "#import matplotlib.pyplot as plt\n",
        "#from matplotlib.colors import ListedColormap\n",
        "#from sklearn.linear_model import LogisticRegression"
      ],
      "execution_count": 3,
      "outputs": []
    },
    {
      "cell_type": "code",
      "source": [],
      "metadata": {
        "id": "VuvJO3Wth6uk"
      },
      "execution_count": null,
      "outputs": []
    },
    {
      "cell_type": "code",
      "metadata": {
        "id": "4JEBC9tZEZel",
        "outputId": "4cc3e726-9e2b-48b7-e018-ef8d491674f0",
        "colab": {
          "base_uri": "https://localhost:8080/"
        }
      },
      "source": [
        "# we load the data set directly from scikit learn\n",
        "#\n",
        "# note: this operation may take a few seconds. If for any reason it fails we\n",
        "# can revert back to loading from local storage.\n",
        "\n",
        "from sklearn.datasets import fetch_openml\n",
        "from sklearn.model_selection import train_test_split\n",
        "\n",
        "\n",
        "X, y = fetch_openml('mnist_784', version=1, return_X_y=True)\n",
        "y = y.astype(int)\n",
        "X = ((X / 255.) - .5) * 2\n",
        "X_train, X_test, y_train, y_test = train_test_split(\n",
        "    X, y, test_size=10000, random_state=123, stratify=y)"
      ],
      "execution_count": 2,
      "outputs": [
        {
          "output_type": "stream",
          "name": "stderr",
          "text": [
            "/usr/local/lib/python3.10/dist-packages/sklearn/datasets/_openml.py:968: FutureWarning: The default value of `parser` will change from `'liac-arff'` to `'auto'` in 1.4. You can set `parser='auto'` to silence this warning. Therefore, an `ImportError` will be raised from 1.4 if the dataset is dense and pandas is not installed. Note that the pandas parser may return different data types. See the Notes Section in fetch_openml's API doc for details.\n",
            "  warn(\n"
          ]
        }
      ]
    },
    {
      "cell_type": "code",
      "source": [
        "newArr = X_train.to_numpy();\n",
        "copy = X_train.to_numpy()\n",
        "newArr_reshaped = np.reshape(newArr, (len(newArr), 28, 28))\n",
        "print(newArr_reshaped.shape)\n",
        "\n",
        "##print(newArr[0].shape)"
      ],
      "metadata": {
        "colab": {
          "base_uri": "https://localhost:8080/"
        },
        "id": "S0sMHhdtJIHY",
        "outputId": "04147ff0-5895-4b9a-dd0c-c50ad069e46d"
      },
      "execution_count": 24,
      "outputs": [
        {
          "output_type": "stream",
          "name": "stdout",
          "text": [
            "(60000, 28, 28)\n"
          ]
        }
      ]
    },
    {
      "cell_type": "code",
      "source": [
        "def displayImage(index):\n",
        "  some_digit = X_train.to_numpy()[index]\n",
        "  some_digit_image = some_digit.reshape(28, 28)\n",
        "  plt.imshow(some_digit_image, cmap=\"binary\")\n",
        "  plt.axis(\"off\")\n",
        "  plt.show()\n",
        "##displayImage(0)\n",
        "## wtf is covariance\n",
        "X_train.iloc[0]"
      ],
      "metadata": {
        "colab": {
          "base_uri": "https://localhost:8080/"
        },
        "id": "Zu8_cWxocG2C",
        "outputId": "7706a290-0918-4d93-8515-dd1af0a988aa"
      },
      "execution_count": 25,
      "outputs": [
        {
          "output_type": "execute_result",
          "data": {
            "text/plain": [
              "pixel1     -1.0\n",
              "pixel2     -1.0\n",
              "pixel3     -1.0\n",
              "pixel4     -1.0\n",
              "pixel5     -1.0\n",
              "           ... \n",
              "pixel780   -1.0\n",
              "pixel781   -1.0\n",
              "pixel782   -1.0\n",
              "pixel783   -1.0\n",
              "pixel784   -1.0\n",
              "Name: 21107, Length: 784, dtype: float64"
            ]
          },
          "metadata": {},
          "execution_count": 25
        }
      ]
    },
    {
      "cell_type": "markdown",
      "metadata": {
        "id": "GfrfDK0P-uT5"
      },
      "source": [
        "## <font color = 'blue'> Question 1. Inspecting the Dataset （50 pts = 10 pts by 5 questions)</font>\n",
        "\n",
        "**(i)** How many data points are in the training and test sets ? <br>\n",
        "**(ii)** How many attributes does the data set have ?\n",
        "\n",
        "Exlain how you found the answer to the first two questions.\n",
        "\n",
        "[**Hint**: Use the 'shape' method associated with numpy arrays. ]\n",
        "\n",
        "**(iii)** How many different labels does this data set have. Can you demonsrate how to read that number from the vector of labels *y_train*?  <br>\n",
        "**(iv)** How does the number of attributes relates to the size of the images? <br>\n",
        "**(v)** What is the role of line 12 (X = ((X / 255.) - .5) * 2) in the above code?\n",
        "\n",
        "\n",
        "\n",
        "\n",
        "\n",
        "*(Please insert cells below for your answers. Clearly id the part of the question you answer)*"
      ]
    },
    {
      "cell_type": "code",
      "metadata": {
        "id": "4po5m-tq-uT6",
        "outputId": "66555f0f-79f0-419c-8695-adab406f895b",
        "colab": {
          "base_uri": "https://localhost:8080/",
          "height": 122
        }
      },
      "source": [
        "'''\n",
        "ASSIGNMENT 4\n",
        "RODRIGO MORALES\n",
        "'''\n",
        "## print(mnist.DESCR)\n",
        "## print(mnist.keys())\n",
        "## print(mnist['feature_names'])\n",
        "### curtesy of aurelier geron \"Hands-On Machine Learning with Scikit-Learn, Keras, and TensorFlow\"\n",
        "## some_digit = X[0];\n",
        "## some_digit_img = some_digit.reshape(28,28)\n",
        "## plt.imshow(some_digit_img, cmap=\"binary\")\n",
        "## plt.axis(\"off\")\n",
        "## plt.show()\n",
        "### C\n",
        "## print(some_digit_img) ## numpy.float64\n",
        "## print(f\"shape of x is {y_train.shape}\") ## 7000 x 784 (the images are 28 x 28)\n",
        "## print(f\"shape of y is {X_test.shape}\") ## 7000 labels that show the actual value of the handwritten digits\n",
        "'''\n",
        "1. There are 70000 total images of hand-written digits. 60000 images are assigned to the training set meanwhile 10000 are assigned towards the testing set\n",
        "2. There are 784 attributes for every handwritten digit, each attribute is a pixel. This array can be reshaped to a 28x28\n",
        "3. There are 60000 labels in the y_train vector, the shape of the array is <60000,> which means it is a 1d array\n",
        "4. The number of attributes relates to the size of the image because the more attributes we have the more pixels we have which lead to a larger image.\n",
        "5. If the value of x is 0 then the value will be -1. If the value is 255 then  it will be 1. Either way the value is computed as a float\n",
        " and the interval [-1.0, 1.0] refers to the intensity of the image with white being closer to (-1.0) and black being closer to (1.0)\n",
        "\n",
        "'''\n",
        "\n"
      ],
      "execution_count": 4,
      "outputs": [
        {
          "output_type": "execute_result",
          "data": {
            "text/plain": [
              "'\\n1. There are 70000 total images of hand-written digits. 60000 images are assigned to the training set meanwhile 10000 are assigned towards the testing set\\n2. There are 784 attributes for every handwritten digit, each attribute is a pixel. This array can be reshaped to a 28x28\\n3. There are 60000 labels in the y_train vector, the shape of the array is <60000,> which means it is a 1d array\\n4. The number of attributes relates to the size of the image because the more attributes we have the more pixels we have which lead to a larger image.\\n5. If the value of x is 0 then the value will be -1. If the value is 255 then  it will be 1. Either way the value is computed as a float\\n and the interval [-1.0, 1.0] refers to the intensity of the image with white being closer to (-1.0) and black being closer to (1.0)\\n\\n'"
            ],
            "application/vnd.google.colaboratory.intrinsic+json": {
              "type": "string"
            }
          },
          "metadata": {},
          "execution_count": 4
        }
      ]
    },
    {
      "cell_type": "code",
      "metadata": {
        "id": "IllLoXxGAIIo"
      },
      "source": [
        "# For grader use only\n",
        "maxScore = maxScore + 50\n"
      ],
      "execution_count": null,
      "outputs": []
    },
    {
      "cell_type": "markdown",
      "metadata": {
        "id": "YMEcdAp3-uT-"
      },
      "source": [
        "##  <font color = 'blue'> Question 2. PCA on MNIST (10 pts) </font>\n",
        "\n",
        "Because the number of attributes of the MNIST data set may be too big to apply kNN on it (due to the 'curse of dimensionality'), we want to compress the images down to a smaller number of 'fake' attributes.\n",
        "\n",
        "Use scikit-learn to output a data set *X_train_transformed* and *X_test_transformed*, with $l$ attributes. Here a reasonable choice of $l$ is 10, equal to the number of labels. But you can try slightly smaller or bigger values as well.\n",
        "\n",
        "Print out the shape of *X_train_transformed* and *X_test_transformed*.\n",
        "\n",
        "\n",
        "**Hint**: Take a look at [this notebook](https://colab.research.google.com/drive/1DG5PjWejo8F7AhozHxj8329SuMtXZ874?usp=drive_fs), and imitate what we did there. Be careful though, to use only the scikit-learn demonstration, not the exhaustive PCA steps.\n",
        "\n",
        "**Note**: This computation can take a while. If problems are encountered we can try the same experiment on a downsized data set."
      ]
    },
    {
      "cell_type": "markdown",
      "metadata": {
        "id": "a0ek4Ry_-uT_"
      },
      "source": []
    },
    {
      "cell_type": "code",
      "source": [
        "from numpy.ma.core import minimum\n",
        "from sklearn.preprocessing import StandardScaler\n",
        "\n",
        "sc = StandardScaler()\n",
        "X_train_std = sc.fit_transform(X_train)\n",
        "X_test_std = sc.transform(X_test)\n",
        "#print(X_train_std[0])"
      ],
      "metadata": {
        "id": "K4esG7KAnxB7"
      },
      "execution_count": 26,
      "outputs": []
    },
    {
      "cell_type": "code",
      "source": [
        "cov_mat = np.cov(X_train_std.T)\n",
        "print(X_train_std.shape)\n",
        "#eigen_vals, eigen_vecs = np.linalg.eig(cov_mat)\n",
        "counter=0\n",
        "totLen = len(cov_mat) * len(cov_mat[0])\n",
        "#print('\\nEigenvalues \\n%s' % eigen_vals)\n",
        "\n"
      ],
      "metadata": {
        "id": "cW_h3XgGl4vR",
        "outputId": "7d8e476a-6769-4300-b57d-b91b1324fbdd",
        "colab": {
          "base_uri": "https://localhost:8080/"
        }
      },
      "execution_count": 35,
      "outputs": [
        {
          "output_type": "stream",
          "name": "stdout",
          "text": [
            "(60000, 784)\n"
          ]
        }
      ]
    },
    {
      "cell_type": "code",
      "source": [
        "tot = sum(eigen_vals)\n",
        "var_exp = [(i / tot) for i in sorted(eigen_vals, reverse=True)]\n",
        "cum_var_exp = np.cumsum(var_exp)"
      ],
      "metadata": {
        "id": "FAMw_MF1KeHi"
      },
      "execution_count": null,
      "outputs": []
    },
    {
      "cell_type": "code",
      "source": [
        "plt.bar(range(1, 785), var_exp, alpha=0.5, align='center',\n",
        "        label='Individual explained variance')\n",
        "plt.step(range(1, 785), cum_var_exp, where='mid',\n",
        "         label='Cumulative explained variance')\n",
        "plt.ylabel('Explained variance ratio')\n",
        "plt.xlabel('Principal component index')\n",
        "plt.legend(loc='best')\n",
        "plt.tight_layout()\n",
        "# plt.savefig('images/05_02.png', dpi=300)\n",
        "plt.show()"
      ],
      "metadata": {
        "colab": {
          "base_uri": "https://localhost:8080/",
          "height": 487
        },
        "id": "CPG8Xut-mwTH",
        "outputId": "12ee979e-a6e6-41e7-f95d-974bdc1e965b"
      },
      "execution_count": null,
      "outputs": [
        {
          "output_type": "display_data",
          "data": {
            "text/plain": [
              "<Figure size 640x480 with 1 Axes>"
            ],
            "image/png": "[encoded data removed]"
          },
          "metadata": {}
        }
      ]
    },
    {
      "cell_type": "code",
      "metadata": {
        "id": "sBjMZF1wGaUp",
        "outputId": "8d5c8b91-c8f8-4628-c7bb-6eca72fb3ac2",
        "colab": {
          "base_uri": "https://localhost:8080/",
          "height": 211
        }
      },
      "source": [
        "# for grader use\n",
        "maxScore = maxScore + 10\n",
        "\n"
      ],
      "execution_count": null,
      "outputs": [
        {
          "output_type": "error",
          "ename": "NameError",
          "evalue": "ignored",
          "traceback": [
            "\u001b[0;31m---------------------------------------------------------------------------\u001b[0m",
            "\u001b[0;31mNameError\u001b[0m                                 Traceback (most recent call last)",
            "\u001b[0;32m<ipython-input-75-aa58e8d8a5e2>\u001b[0m in \u001b[0;36m<cell line: 2>\u001b[0;34m()\u001b[0m\n\u001b[1;32m      1\u001b[0m \u001b[0;31m# for grader use\u001b[0m\u001b[0;34m\u001b[0m\u001b[0;34m\u001b[0m\u001b[0m\n\u001b[0;32m----> 2\u001b[0;31m \u001b[0mmaxScore\u001b[0m \u001b[0;34m=\u001b[0m \u001b[0mmaxScore\u001b[0m \u001b[0;34m+\u001b[0m \u001b[0;36m10\u001b[0m\u001b[0;34m\u001b[0m\u001b[0;34m\u001b[0m\u001b[0m\n\u001b[0m\u001b[1;32m      3\u001b[0m \u001b[0;34m\u001b[0m\u001b[0m\n",
            "\u001b[0;31mNameError\u001b[0m: name 'maxScore' is not defined"
          ]
        }
      ]
    },
    {
      "cell_type": "markdown",
      "metadata": {
        "id": "Pe9kKR3J-uUA"
      },
      "source": [
        "## <font color = 'blue'> Question 3. kNN on MNIST attributes from PCA （40 pts = 10 pts by 4 questions) </font>\n",
        "\n",
        "\n",
        "Having calculated the *transformed* MNIST data set we can now apply a kNN approach to the MNIST classification data set. Here are the sets:\n",
        "\n",
        "(i) Fit a $k$-NN classifier on the transformed data set. Here $k$ is a hyperparameter, and you can experiment with it. Be aware though, that larger $k$ can take more time to fit.\n",
        "\n",
        "(ii) Apply the classifier on the transformed test set. What is the classification accuracy?\n",
        "\n",
        "(iii) A theoretical question: if we skipped all the above steps and we just assigned a **random** label to each test point, what would the classification accuracy be on average?  Does your result (ii) beat the random expectation? (conduct 1000 trials to get the average accuracy)\n",
        "\n",
        "(iv) Experiment with different settings of $k$. Experiment design: calculates accuracy for increasing values of k; stops when k decreases for 5 values of k; report your findings in a separate cell.\n",
        "\n",
        "[**Hint**: Take a look at this [notebook](https://colab.research.google.com/drive/1Mh6I3bR8pE90kcs28JfKok59NtfV_7ct?usp=drive_fs)]\n"
      ]
    },
    {
      "cell_type": "code",
      "metadata": {
        "id": "5v7Q2NKp-uUM"
      },
      "source": [],
      "execution_count": null,
      "outputs": []
    },
    {
      "cell_type": "code",
      "metadata": {
        "id": "NuYcPkCaGe9p"
      },
      "source": [
        "# for grader use\n",
        "maxScore = maxScore + 40\n",
        "\n"
      ],
      "execution_count": null,
      "outputs": []
    },
    {
      "cell_type": "code",
      "metadata": {
        "id": "fydXo8GRGkbp"
      },
      "source": [
        "# for grader use\n",
        "\n",
        "score = actualScore*100/maxScore"
      ],
      "execution_count": null,
      "outputs": []
    }
  ]
}